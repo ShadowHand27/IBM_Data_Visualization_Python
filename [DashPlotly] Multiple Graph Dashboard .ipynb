{
 "cells": [
  {
   "cell_type": "markdown",
   "id": "b9c5025b-edae-42c3-844e-848e1a65642e",
   "metadata": {},
   "source": [
    "<br><img src='https://encrypted-tbn0.gstatic.com/images?q=tbn:ANd9GcRbAv_1oruFnK5S-AUSqKcRrpziHk8VQ1I1ujnTXccysijk5j7XBxPfdGXSUl04bkI3KNY&usqp=CAU' width='250' />\n",
    "\n",
    "# Multiple Dashboard "
   ]
  },
  {
   "cell_type": "markdown",
   "id": "84d60d33-be56-44a0-8915-93aff5fbcbfe",
   "metadata": {},
   "source": [
    "---\n",
    "### Import the libraries and dataset"
   ]
  },
  {
   "cell_type": "code",
   "execution_count": null,
   "id": "bcaab579-d9ac-41fa-a003-06632cce98f6",
   "metadata": {},
   "outputs": [],
   "source": [
    "import pandas as pd\n",
    "import numpy as np\n",
    "import plotly.graph_objects as go\n",
    "import plotly.express as px\n",
    "from dash import dash, html, dcc\n",
    "from dash.dependencies import Input, Output"
   ]
  },
  {
   "cell_type": "code",
   "execution_count": null,
   "id": "f4fc6f34-7a8f-4f1e-bc17-34f01a6238aa",
   "metadata": {},
   "outputs": [],
   "source": [
    "# import the dataset\n",
    "def importdata() :\n",
    "    var = pd.read_csv('airline_data.csv')\n",
    "    return var\n",
    "\n",
    "if __name__ == '__main__' :\n",
    "    airline_data = importdata()"
   ]
  },
  {
   "cell_type": "markdown",
   "id": "7a518b16-e8b4-4e93-95f9-b1aeec90637b",
   "metadata": {},
   "source": [
    "---\n",
    "### Create the html skeleton"
   ]
  },
  {
   "cell_type": "code",
   "execution_count": null,
   "id": "be8a9a5c-651d-4c95-8adf-ae2ca4819d6c",
   "metadata": {},
   "outputs": [],
   "source": [
    "# Create a dash application\n",
    "app = dash.Dash(__name__)\n",
    "\n",
    "app.layout = html.Div(children=[\n",
    "    html.H1('Flight Delay Time Statistics',style={'text-align':'center','color':'#503D36','fontSize':40}),\n",
    "    # Dash component\n",
    "    html.Div([\"Input Year:\",dcc.Input(id='input-year',type='number',value='2010',style={'height':'35px','fontsize':30})\n",
    "             ],style={'fontsize':30}),\n",
    "    html.Br(), # Break point\n",
    "    html.Br(),\n",
    "    # Segment 1\n",
    "    html.Div([\n",
    "        html.Div(dcc.Graph(id='carrier-plot')),\n",
    "        html.Div(dcc.Graph(id='weather-plot')),\n",
    "    ],style={'display':'flex'}),\n",
    "    html.Br(),\n",
    "    html.Br(),\n",
    "    # Segment 2\n",
    "    html.Div([\n",
    "        html.Div(dcc.Graph(id='nas-plot',figure={})),\n",
    "        html.Div(dcc.Graph(id='security-plot')),\n",
    "    ],style={'display':'flex'}),\n",
    "    html.Br(),\n",
    "    # Segment 3\n",
    "    html.Div(dcc.Graph(id='late-plot'),style={'width':'65%'})\n",
    "    ])\n",
    "\n",
    "def compute_info(airline_data, entered_year):\n",
    "    # Select data\n",
    "    df =  airline_data[airline_data['Year']==int(entered_year)]\n",
    "    # Compute delay averages\n",
    "    avg_car = df.groupby(['Month','Reporting_Airline'])['CarrierDelay'].mean().reset_index()\n",
    "    avg_weather = df.groupby(['Month','Reporting_Airline'])['WeatherDelay'].mean().reset_index()\n",
    "    avg_NAS = df.groupby(['Month','Reporting_Airline'])['NASDelay'].mean().reset_index()\n",
    "    avg_sec = df.groupby(['Month','Reporting_Airline'])['SecurityDelay'].mean().reset_index()\n",
    "    avg_late = df.groupby(['Month','Reporting_Airline'])['LateAircraftDelay'].mean().reset_index()\n",
    "    return avg_car, avg_weather, avg_NAS, avg_sec, avg_late\n",
    "\n",
    "# Callback function\n",
    "@app.callback([Output(component_id='carrier-plot', component_property='figure'),\n",
    "               Output(component_id='weather-plot', component_property='figure'),\n",
    "               Output(component_id='nas-plot', component_property='figure'),\n",
    "               Output(component_id='security-plot', component_property='figure'),\n",
    "               Output(component_id='late-plot', component_property='figure')\n",
    "              ],\n",
    "             Input(component_id='input-year', component_property='value'))\n",
    "\n",
    "# Plot the graphs\n",
    "def get_graph(input_year) :\n",
    "    # Get the datas for the specific year\n",
    "    avg_car, avg_weather, avg_NAS, avg_sec, avg_late = compute_info(airline_data,input_year)\n",
    "    # plot the graph for carrier delay\n",
    "    carrier_fig = px.scatter(avg_car,x='Month',y='CarrierDelay',\n",
    "                          title='Average Carrier Delay Time (minutes) by Airline', \n",
    "                          color='Reporting_Airline')\n",
    "    # plot the graph for Weather delay\n",
    "    weather_fig = px.scatter(avg_weather,x='Month',y='WeatherDelay',\n",
    "                          title='Average Weather Delay Time (minutes) by Airline', \n",
    "                          color='Reporting_Airline')\n",
    "    # plot the graph for NAS delay\n",
    "    nas_fig = px.scatter(avg_NAS,x='Month',y='NASDelay',\n",
    "                          title='Average NAS Delay Time (minutes) by Airline', \n",
    "                          color='Reporting_Airline')\n",
    "    # plot the graph for the security delay\n",
    "    security_fig = px.scatter(avg_sec,x='Month',y='SecurityDelay',\n",
    "                          title='Average Security Delay Time (minutes) by Airline', \n",
    "                          color='Reporting_Airline')\n",
    "    # plot the graph for late aircraft delay\n",
    "    late_fig = px.scatter(avg_late,x='Month',y='LateAircraftDelay',\n",
    "                          title='Average Late Aircraft Delay Time (minutes) by Airline', \n",
    "                          color='Reporting_Airline')\n",
    "    \n",
    "    return [carrier_fig,weather_fig,nas_fig,security_fig,late_fig]\n",
    "\n",
    "# Run the app\n",
    "if __name__=='__main__':\n",
    "    app.run_server()"
   ]
  },
  {
   "cell_type": "markdown",
   "id": "d2560d80-363e-4c22-ab49-6a259a6b5740",
   "metadata": {},
   "source": [
    "---\n",
    "<h1><center> END"
   ]
  }
 ],
 "metadata": {
  "kernelspec": {
   "display_name": "Python 3",
   "language": "python",
   "name": "python3"
  },
  "language_info": {
   "codemirror_mode": {
    "name": "ipython",
    "version": 3
   },
   "file_extension": ".py",
   "mimetype": "text/x-python",
   "name": "python",
   "nbconvert_exporter": "python",
   "pygments_lexer": "ipython3",
   "version": "3.8.8"
  }
 },
 "nbformat": 4,
 "nbformat_minor": 5
}