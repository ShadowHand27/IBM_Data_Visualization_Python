{
 "cells": [
  {
   "cell_type": "code",
   "execution_count": 2,
   "id": "a091652d-1646-420f-aa73-e6f2a9251749",
   "metadata": {
    "scrolled": true,
    "tags": []
   },
   "outputs": [
    {
     "name": "stdout",
     "output_type": "stream",
     "text": [
      "Requirement already satisfied: jupyter-dash in c:\\users\\alex\\anaconda3\\lib\\site-packages (0.4.0)\n",
      "Requirement already satisfied: ansi2html in c:\\users\\alex\\anaconda3\\lib\\site-packages (from jupyter-dash) (1.6.0)\n",
      "Requirement already satisfied: ipykernel in c:\\users\\alex\\anaconda3\\lib\\site-packages (from jupyter-dash) (5.3.4)\n",
      "Requirement already satisfied: requests in c:\\users\\alex\\anaconda3\\lib\\site-packages (from jupyter-dash) (2.26.0)\n",
      "Requirement already satisfied: flask in c:\\users\\alex\\anaconda3\\lib\\site-packages (from jupyter-dash) (1.1.2)\n",
      "Requirement already satisfied: dash in c:\\users\\alex\\anaconda3\\lib\\site-packages (from jupyter-dash) (2.0.0)\n",
      "Requirement already satisfied: retrying in c:\\users\\alex\\anaconda3\\lib\\site-packages (from jupyter-dash) (1.3.3)\n",
      "Requirement already satisfied: ipython in c:\\users\\alex\\anaconda3\\lib\\site-packages (from jupyter-dash) (7.22.0)\n",
      "Requirement already satisfied: flask-compress in c:\\users\\alex\\anaconda3\\lib\\site-packages (from dash->jupyter-dash) (1.10.1)\n",
      "Requirement already satisfied: plotly>=5.0.0 in c:\\users\\alex\\anaconda3\\lib\\site-packages (from dash->jupyter-dash) (5.4.0)\n",
      "Requirement already satisfied: dash-html-components==2.0.0 in c:\\users\\alex\\anaconda3\\lib\\site-packages (from dash->jupyter-dash) (2.0.0)\n",
      "Requirement already satisfied: dash-core-components==2.0.0 in c:\\users\\alex\\anaconda3\\lib\\site-packages (from dash->jupyter-dash) (2.0.0)\n",
      "Requirement already satisfied: dash-table==5.0.0 in c:\\users\\alex\\anaconda3\\lib\\site-packages (from dash->jupyter-dash) (5.0.0)\n",
      "Requirement already satisfied: Werkzeug>=0.15 in c:\\users\\alex\\anaconda3\\lib\\site-packages (from flask->jupyter-dash) (1.0.1)\n",
      "Requirement already satisfied: Jinja2>=2.10.1 in c:\\users\\alex\\anaconda3\\lib\\site-packages (from flask->jupyter-dash) (2.11.3)\n",
      "Requirement already satisfied: itsdangerous>=0.24 in c:\\users\\alex\\anaconda3\\lib\\site-packages (from flask->jupyter-dash) (1.1.0)\n",
      "Requirement already satisfied: click>=5.1 in c:\\users\\alex\\anaconda3\\lib\\site-packages (from flask->jupyter-dash) (7.1.2)\n",
      "Requirement already satisfied: MarkupSafe>=0.23 in c:\\users\\alex\\anaconda3\\lib\\site-packages (from Jinja2>=2.10.1->flask->jupyter-dash) (1.1.1)\n",
      "Requirement already satisfied: six in c:\\users\\alex\\anaconda3\\lib\\site-packages (from plotly>=5.0.0->dash->jupyter-dash) (1.15.0)\n",
      "Requirement already satisfied: tenacity>=6.2.0 in c:\\users\\alex\\anaconda3\\lib\\site-packages (from plotly>=5.0.0->dash->jupyter-dash) (8.0.1)\n",
      "Requirement already satisfied: brotli in c:\\users\\alex\\anaconda3\\lib\\site-packages (from flask-compress->dash->jupyter-dash) (1.0.9)\n",
      "Requirement already satisfied: tornado>=4.2 in c:\\users\\alex\\anaconda3\\lib\\site-packages (from ipykernel->jupyter-dash) (6.1)\n",
      "Requirement already satisfied: traitlets>=4.1.0 in c:\\users\\alex\\anaconda3\\lib\\site-packages (from ipykernel->jupyter-dash) (5.0.5)\n",
      "Requirement already satisfied: jupyter-client in c:\\users\\alex\\anaconda3\\lib\\site-packages (from ipykernel->jupyter-dash) (6.1.12)\n",
      "Requirement already satisfied: decorator in c:\\users\\alex\\anaconda3\\lib\\site-packages (from ipython->jupyter-dash) (5.0.6)\n",
      "Requirement already satisfied: pygments in c:\\users\\alex\\anaconda3\\lib\\site-packages (from ipython->jupyter-dash) (2.8.1)\n",
      "Requirement already satisfied: jedi>=0.16 in c:\\users\\alex\\anaconda3\\lib\\site-packages (from ipython->jupyter-dash) (0.17.2)\n",
      "Requirement already satisfied: setuptools>=18.5 in c:\\users\\alex\\anaconda3\\lib\\site-packages (from ipython->jupyter-dash) (52.0.0.post20210125)\n",
      "Requirement already satisfied: pickleshare in c:\\users\\alex\\anaconda3\\lib\\site-packages (from ipython->jupyter-dash) (0.7.5)\n",
      "Requirement already satisfied: prompt-toolkit!=3.0.0,!=3.0.1,<3.1.0,>=2.0.0 in c:\\users\\alex\\anaconda3\\lib\\site-packages (from ipython->jupyter-dash) (3.0.17)\n",
      "Requirement already satisfied: backcall in c:\\users\\alex\\anaconda3\\lib\\site-packages (from ipython->jupyter-dash) (0.2.0)\n",
      "Requirement already satisfied: colorama in c:\\users\\alex\\anaconda3\\lib\\site-packages (from ipython->jupyter-dash) (0.4.4)\n",
      "Requirement already satisfied: parso<0.8.0,>=0.7.0 in c:\\users\\alex\\anaconda3\\lib\\site-packages (from jedi>=0.16->ipython->jupyter-dash) (0.7.0)\n",
      "Requirement already satisfied: wcwidth in c:\\users\\alex\\anaconda3\\lib\\site-packages (from prompt-toolkit!=3.0.0,!=3.0.1,<3.1.0,>=2.0.0->ipython->jupyter-dash) (0.2.5)\n",
      "Requirement already satisfied: ipython-genutils in c:\\users\\alex\\anaconda3\\lib\\site-packages (from traitlets>=4.1.0->ipykernel->jupyter-dash) (0.2.0)\n",
      "Requirement already satisfied: jupyter-core>=4.6.0 in c:\\users\\alex\\anaconda3\\lib\\site-packages (from jupyter-client->ipykernel->jupyter-dash) (4.7.1)\n",
      "Requirement already satisfied: pyzmq>=13 in c:\\users\\alex\\anaconda3\\lib\\site-packages (from jupyter-client->ipykernel->jupyter-dash) (20.0.0)\n",
      "Requirement already satisfied: python-dateutil>=2.1 in c:\\users\\alex\\anaconda3\\lib\\site-packages (from jupyter-client->ipykernel->jupyter-dash) (2.8.1)\n",
      "Requirement already satisfied: pywin32>=1.0 in c:\\users\\alex\\anaconda3\\lib\\site-packages (from jupyter-core>=4.6.0->jupyter-client->ipykernel->jupyter-dash) (227)\n",
      "Requirement already satisfied: urllib3<1.27,>=1.21.1 in c:\\users\\alex\\anaconda3\\lib\\site-packages (from requests->jupyter-dash) (1.26.4)\n",
      "Requirement already satisfied: idna<4,>=2.5 in c:\\users\\alex\\anaconda3\\lib\\site-packages (from requests->jupyter-dash) (2.10)\n",
      "Requirement already satisfied: certifi>=2017.4.17 in c:\\users\\alex\\anaconda3\\lib\\site-packages (from requests->jupyter-dash) (2020.12.5)\n",
      "Requirement already satisfied: charset-normalizer~=2.0.0 in c:\\users\\alex\\anaconda3\\lib\\site-packages (from requests->jupyter-dash) (2.0.7)\n",
      "Note: you may need to restart the kernel to use updated packages.\n"
     ]
    }
   ],
   "source": [
    "pip install jupyter-dash"
   ]
  },
  {
   "cell_type": "code",
   "execution_count": 9,
   "id": "8712581a-c9a0-4d91-96e2-9e25b0ed263d",
   "metadata": {},
   "outputs": [
    {
     "data": {
      "text/html": [
       "\n",
       "        <iframe\n",
       "            width=\"100%\"\n",
       "            height=\"650\"\n",
       "            src=\"http://127.0.0.1:8050/\"\n",
       "            frameborder=\"0\"\n",
       "            allowfullscreen\n",
       "        ></iframe>\n",
       "        "
      ],
      "text/plain": [
       "<IPython.lib.display.IFrame at 0x1263c21b190>"
      ]
     },
     "metadata": {},
     "output_type": "display_data"
    }
   ],
   "source": [
    "import plotly.express as px\n",
    "from jupyter_dash import JupyterDash\n",
    "from dash import dcc, html, Input, Output\n",
    "\n",
    "# Load Data\n",
    "df = px.data.tips()\n",
    "# Build App\n",
    "app = JupyterDash(__name__)\n",
    "app.layout = html.Div([\n",
    "    html.H1(\"JupyterDash Demo\",style={'color':'white','text-align':'center'}),\n",
    "    dcc.Graph(id='graph'),\n",
    "    html.Br(),\n",
    "    html.Br(),\n",
    "    html.Div([\n",
    "        \n",
    "        html.Div(\"colorscale\",style={'color':'white'}),\n",
    "        html.Div(\n",
    "        dcc.Dropdown( id='colorscale-dropdown', clearable=False,\n",
    "                      value='plasma', \n",
    "                      options=[{'label': c, 'value': c} for c in px.colors.named_colorscales()])\n",
    "        ) # close for dropbown div\n",
    "    ]),\n",
    "])\n",
    "# Define callback to update graph\n",
    "@app.callback(\n",
    "                Output('graph', 'figure'),\n",
    "                Input(\"colorscale-dropdown\", \"value\")\n",
    "             )\n",
    "\n",
    "def update_figure(colorscale):\n",
    "    return px.scatter(\n",
    "        df, x=\"total_bill\", y=\"tip\", color=\"size\",\n",
    "        color_continuous_scale=colorscale,\n",
    "        render_mode=\"webgl\", title=\"Tips\")\n",
    "\n",
    "# Run app and display result inline in the notebook\n",
    "app.run_server(mode='inline')"
   ]
  },
  {
   "cell_type": "code",
   "execution_count": null,
   "id": "6845a8b3-8703-4ddb-85be-880e463cf72a",
   "metadata": {},
   "outputs": [],
   "source": []
  }
 ],
 "metadata": {
  "kernelspec": {
   "display_name": "Python 3",
   "language": "python",
   "name": "python3"
  },
  "language_info": {
   "codemirror_mode": {
    "name": "ipython",
    "version": 3
   },
   "file_extension": ".py",
   "mimetype": "text/x-python",
   "name": "python",
   "nbconvert_exporter": "python",
   "pygments_lexer": "ipython3",
   "version": "3.8.8"
  }
 },
 "nbformat": 4,
 "nbformat_minor": 5
}
